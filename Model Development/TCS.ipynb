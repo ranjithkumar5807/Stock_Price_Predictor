{
  "nbformat": 4,
  "nbformat_minor": 0,
  "metadata": {
    "colab": {
      "provenance": [],
      "gpuType": "T4"
    },
    "kernelspec": {
      "name": "python3",
      "display_name": "Python 3"
    },
    "language_info": {
      "name": "python"
    },
    "accelerator": "GPU"
  },
  "cells": [
    {
      "cell_type": "code",
      "execution_count": null,
      "metadata": {
        "colab": {
          "base_uri": "https://localhost:8080/",
          "height": 1000
        },
        "id": "48GJg_haNwyk",
        "outputId": "3ec7ae3a-21b5-4cf8-ba95-5542e2e000e1"
      },
      "outputs": [
        {
          "output_type": "stream",
          "name": "stderr",
          "text": [
            "/usr/local/lib/python3.11/dist-packages/keras/src/layers/rnn/rnn.py:200: UserWarning: Do not pass an `input_shape`/`input_dim` argument to a layer. When using Sequential models, prefer using an `Input(shape)` object as the first layer in the model instead.\n",
            "  super().__init__(**kwargs)\n"
          ]
        },
        {
          "output_type": "stream",
          "name": "stdout",
          "text": [
            "Epoch 1/70\n",
            "\u001b[1m161/161\u001b[0m \u001b[32m━━━━━━━━━━━━━━━━━━━━\u001b[0m\u001b[37m\u001b[0m \u001b[1m8s\u001b[0m 13ms/step - loss: 0.0020 - val_loss: 8.3537e-04 - learning_rate: 5.0000e-04\n",
            "Epoch 2/70\n",
            "\u001b[1m161/161\u001b[0m \u001b[32m━━━━━━━━━━━━━━━━━━━━\u001b[0m\u001b[37m\u001b[0m \u001b[1m1s\u001b[0m 9ms/step - loss: 3.1752e-04 - val_loss: 2.1635e-04 - learning_rate: 5.0000e-04\n",
            "Epoch 3/70\n",
            "\u001b[1m161/161\u001b[0m \u001b[32m━━━━━━━━━━━━━━━━━━━━\u001b[0m\u001b[37m\u001b[0m \u001b[1m2s\u001b[0m 10ms/step - loss: 1.7140e-04 - val_loss: 7.6259e-05 - learning_rate: 5.0000e-04\n",
            "Epoch 4/70\n",
            "\u001b[1m161/161\u001b[0m \u001b[32m━━━━━━━━━━━━━━━━━━━━\u001b[0m\u001b[37m\u001b[0m \u001b[1m3s\u001b[0m 10ms/step - loss: 1.1015e-04 - val_loss: 1.1392e-04 - learning_rate: 5.0000e-04\n",
            "Epoch 5/70\n",
            "\u001b[1m161/161\u001b[0m \u001b[32m━━━━━━━━━━━━━━━━━━━━\u001b[0m\u001b[37m\u001b[0m \u001b[1m2s\u001b[0m 10ms/step - loss: 8.6925e-05 - val_loss: 5.1208e-05 - learning_rate: 5.0000e-04\n",
            "Epoch 6/70\n",
            "\u001b[1m161/161\u001b[0m \u001b[32m━━━━━━━━━━━━━━━━━━━━\u001b[0m\u001b[37m\u001b[0m \u001b[1m3s\u001b[0m 13ms/step - loss: 5.9721e-05 - val_loss: 7.3258e-05 - learning_rate: 5.0000e-04\n",
            "Epoch 7/70\n",
            "\u001b[1m161/161\u001b[0m \u001b[32m━━━━━━━━━━━━━━━━━━━━\u001b[0m\u001b[37m\u001b[0m \u001b[1m1s\u001b[0m 9ms/step - loss: 5.9315e-05 - val_loss: 8.4430e-05 - learning_rate: 5.0000e-04\n",
            "Epoch 8/70\n",
            "\u001b[1m161/161\u001b[0m \u001b[32m━━━━━━━━━━━━━━━━━━━━\u001b[0m\u001b[37m\u001b[0m \u001b[1m2s\u001b[0m 10ms/step - loss: 5.0086e-05 - val_loss: 6.4239e-05 - learning_rate: 5.0000e-04\n",
            "Epoch 9/70\n",
            "\u001b[1m161/161\u001b[0m \u001b[32m━━━━━━━━━━━━━━━━━━━━\u001b[0m\u001b[37m\u001b[0m \u001b[1m2s\u001b[0m 12ms/step - loss: 3.5838e-05 - val_loss: 5.3431e-05 - learning_rate: 2.5000e-04\n",
            "Epoch 10/70\n",
            "\u001b[1m161/161\u001b[0m \u001b[32m━━━━━━━━━━━━━━━━━━━━\u001b[0m\u001b[37m\u001b[0m \u001b[1m2s\u001b[0m 12ms/step - loss: 3.6273e-05 - val_loss: 5.0417e-05 - learning_rate: 2.5000e-04\n",
            "Epoch 11/70\n",
            "\u001b[1m161/161\u001b[0m \u001b[32m━━━━━━━━━━━━━━━━━━━━\u001b[0m\u001b[37m\u001b[0m \u001b[1m2s\u001b[0m 9ms/step - loss: 2.8545e-05 - val_loss: 1.0709e-04 - learning_rate: 2.5000e-04\n",
            "Epoch 12/70\n",
            "\u001b[1m161/161\u001b[0m \u001b[32m━━━━━━━━━━━━━━━━━━━━\u001b[0m\u001b[37m\u001b[0m \u001b[1m3s\u001b[0m 10ms/step - loss: 3.7226e-05 - val_loss: 8.3622e-05 - learning_rate: 2.5000e-04\n",
            "Epoch 13/70\n",
            "\u001b[1m161/161\u001b[0m \u001b[32m━━━━━━━━━━━━━━━━━━━━\u001b[0m\u001b[37m\u001b[0m \u001b[1m2s\u001b[0m 10ms/step - loss: 3.5545e-05 - val_loss: 6.9937e-05 - learning_rate: 2.5000e-04\n",
            "Epoch 14/70\n",
            "\u001b[1m161/161\u001b[0m \u001b[32m━━━━━━━━━━━━━━━━━━━━\u001b[0m\u001b[37m\u001b[0m \u001b[1m2s\u001b[0m 9ms/step - loss: 2.9755e-05 - val_loss: 4.9072e-05 - learning_rate: 1.2500e-04\n",
            "Epoch 15/70\n",
            "\u001b[1m161/161\u001b[0m \u001b[32m━━━━━━━━━━━━━━━━━━━━\u001b[0m\u001b[37m\u001b[0m \u001b[1m2s\u001b[0m 11ms/step - loss: 2.6428e-05 - val_loss: 4.9076e-05 - learning_rate: 1.2500e-04\n",
            "Epoch 16/70\n",
            "\u001b[1m161/161\u001b[0m \u001b[32m━━━━━━━━━━━━━━━━━━━━\u001b[0m\u001b[37m\u001b[0m \u001b[1m2s\u001b[0m 10ms/step - loss: 2.6534e-05 - val_loss: 6.7003e-05 - learning_rate: 1.2500e-04\n",
            "Epoch 17/70\n",
            "\u001b[1m161/161\u001b[0m \u001b[32m━━━━━━━━━━━━━━━━━━━━\u001b[0m\u001b[37m\u001b[0m \u001b[1m2s\u001b[0m 10ms/step - loss: 2.9005e-05 - val_loss: 7.9181e-05 - learning_rate: 1.2500e-04\n",
            "Epoch 18/70\n",
            "\u001b[1m161/161\u001b[0m \u001b[32m━━━━━━━━━━━━━━━━━━━━\u001b[0m\u001b[37m\u001b[0m \u001b[1m3s\u001b[0m 10ms/step - loss: 3.1077e-05 - val_loss: 4.7495e-05 - learning_rate: 1.2500e-04\n",
            "Epoch 19/70\n",
            "\u001b[1m161/161\u001b[0m \u001b[32m━━━━━━━━━━━━━━━━━━━━\u001b[0m\u001b[37m\u001b[0m \u001b[1m2s\u001b[0m 10ms/step - loss: 2.3618e-05 - val_loss: 5.2750e-05 - learning_rate: 6.2500e-05\n",
            "Epoch 20/70\n",
            "\u001b[1m161/161\u001b[0m \u001b[32m━━━━━━━━━━━━━━━━━━━━\u001b[0m\u001b[37m\u001b[0m \u001b[1m3s\u001b[0m 10ms/step - loss: 2.2041e-05 - val_loss: 5.3494e-05 - learning_rate: 6.2500e-05\n",
            "Epoch 21/70\n",
            "\u001b[1m161/161\u001b[0m \u001b[32m━━━━━━━━━━━━━━━━━━━━\u001b[0m\u001b[37m\u001b[0m \u001b[1m2s\u001b[0m 14ms/step - loss: 2.3729e-05 - val_loss: 5.1861e-05 - learning_rate: 6.2500e-05\n",
            "Epoch 22/70\n",
            "\u001b[1m161/161\u001b[0m \u001b[32m━━━━━━━━━━━━━━━━━━━━\u001b[0m\u001b[37m\u001b[0m \u001b[1m2s\u001b[0m 9ms/step - loss: 2.2455e-05 - val_loss: 5.0818e-05 - learning_rate: 6.2500e-05\n",
            "Epoch 23/70\n",
            "\u001b[1m161/161\u001b[0m \u001b[32m━━━━━━━━━━━━━━━━━━━━\u001b[0m\u001b[37m\u001b[0m \u001b[1m2s\u001b[0m 9ms/step - loss: 2.1946e-05 - val_loss: 5.5557e-05 - learning_rate: 6.2500e-05\n",
            "Epoch 24/70\n",
            "\u001b[1m161/161\u001b[0m \u001b[32m━━━━━━━━━━━━━━━━━━━━\u001b[0m\u001b[37m\u001b[0m \u001b[1m3s\u001b[0m 9ms/step - loss: 2.1978e-05 - val_loss: 4.7788e-05 - learning_rate: 3.1250e-05\n",
            "Epoch 25/70\n",
            "\u001b[1m161/161\u001b[0m \u001b[32m━━━━━━━━━━━━━━━━━━━━\u001b[0m\u001b[37m\u001b[0m \u001b[1m3s\u001b[0m 10ms/step - loss: 2.2082e-05 - val_loss: 4.6824e-05 - learning_rate: 3.1250e-05\n",
            "Epoch 26/70\n",
            "\u001b[1m161/161\u001b[0m \u001b[32m━━━━━━━━━━━━━━━━━━━━\u001b[0m\u001b[37m\u001b[0m \u001b[1m3s\u001b[0m 12ms/step - loss: 2.2652e-05 - val_loss: 6.3084e-05 - learning_rate: 3.1250e-05\n",
            "Epoch 27/70\n",
            "\u001b[1m161/161\u001b[0m \u001b[32m━━━━━━━━━━━━━━━━━━━━\u001b[0m\u001b[37m\u001b[0m \u001b[1m2s\u001b[0m 10ms/step - loss: 2.2212e-05 - val_loss: 4.7488e-05 - learning_rate: 3.1250e-05\n",
            "Epoch 28/70\n",
            "\u001b[1m161/161\u001b[0m \u001b[32m━━━━━━━━━━━━━━━━━━━━\u001b[0m\u001b[37m\u001b[0m \u001b[1m2s\u001b[0m 10ms/step - loss: 2.2624e-05 - val_loss: 4.6816e-05 - learning_rate: 3.1250e-05\n",
            "Epoch 29/70\n",
            "\u001b[1m161/161\u001b[0m \u001b[32m━━━━━━━━━━━━━━━━━━━━\u001b[0m\u001b[37m\u001b[0m \u001b[1m1s\u001b[0m 9ms/step - loss: 1.9273e-05 - val_loss: 5.8744e-05 - learning_rate: 1.5625e-05\n",
            "Epoch 30/70\n",
            "\u001b[1m161/161\u001b[0m \u001b[32m━━━━━━━━━━━━━━━━━━━━\u001b[0m\u001b[37m\u001b[0m \u001b[1m2s\u001b[0m 10ms/step - loss: 2.1790e-05 - val_loss: 4.7177e-05 - learning_rate: 1.5625e-05\n",
            "Epoch 31/70\n",
            "\u001b[1m161/161\u001b[0m \u001b[32m━━━━━━━━━━━━━━━━━━━━\u001b[0m\u001b[37m\u001b[0m \u001b[1m1s\u001b[0m 9ms/step - loss: 2.0199e-05 - val_loss: 5.4527e-05 - learning_rate: 1.5625e-05\n",
            "Epoch 32/70\n",
            "\u001b[1m161/161\u001b[0m \u001b[32m━━━━━━━━━━━━━━━━━━━━\u001b[0m\u001b[37m\u001b[0m \u001b[1m3s\u001b[0m 13ms/step - loss: 2.1558e-05 - val_loss: 4.8598e-05 - learning_rate: 1.5625e-05\n",
            "Epoch 33/70\n",
            "\u001b[1m161/161\u001b[0m \u001b[32m━━━━━━━━━━━━━━━━━━━━\u001b[0m\u001b[37m\u001b[0m \u001b[1m2s\u001b[0m 9ms/step - loss: 1.9317e-05 - val_loss: 5.3292e-05 - learning_rate: 1.5625e-05\n",
            "Epoch 34/70\n",
            "\u001b[1m161/161\u001b[0m \u001b[32m━━━━━━━━━━━━━━━━━━━━\u001b[0m\u001b[37m\u001b[0m \u001b[1m1s\u001b[0m 9ms/step - loss: 1.7360e-05 - val_loss: 4.9157e-05 - learning_rate: 7.8125e-06\n",
            "Epoch 35/70\n",
            "\u001b[1m161/161\u001b[0m \u001b[32m━━━━━━━━━━━━━━━━━━━━\u001b[0m\u001b[37m\u001b[0m \u001b[1m2s\u001b[0m 10ms/step - loss: 2.0532e-05 - val_loss: 4.6150e-05 - learning_rate: 7.8125e-06\n",
            "Epoch 36/70\n",
            "\u001b[1m161/161\u001b[0m \u001b[32m━━━━━━━━━━━━━━━━━━━━\u001b[0m\u001b[37m\u001b[0m \u001b[1m2s\u001b[0m 9ms/step - loss: 2.0432e-05 - val_loss: 4.9460e-05 - learning_rate: 7.8125e-06\n",
            "Epoch 37/70\n",
            "\u001b[1m161/161\u001b[0m \u001b[32m━━━━━━━━━━━━━━━━━━━━\u001b[0m\u001b[37m\u001b[0m \u001b[1m2s\u001b[0m 10ms/step - loss: 2.2836e-05 - val_loss: 4.6009e-05 - learning_rate: 7.8125e-06\n",
            "Epoch 38/70\n",
            "\u001b[1m161/161\u001b[0m \u001b[32m━━━━━━━━━━━━━━━━━━━━\u001b[0m\u001b[37m\u001b[0m \u001b[1m2s\u001b[0m 10ms/step - loss: 2.2439e-05 - val_loss: 4.7631e-05 - learning_rate: 7.8125e-06\n",
            "Epoch 39/70\n",
            "\u001b[1m161/161\u001b[0m \u001b[32m━━━━━━━━━━━━━━━━━━━━\u001b[0m\u001b[37m\u001b[0m \u001b[1m3s\u001b[0m 11ms/step - loss: 2.0680e-05 - val_loss: 4.6613e-05 - learning_rate: 3.9063e-06\n",
            "Epoch 40/70\n",
            "\u001b[1m161/161\u001b[0m \u001b[32m━━━━━━━━━━━━━━━━━━━━\u001b[0m\u001b[37m\u001b[0m \u001b[1m2s\u001b[0m 10ms/step - loss: 2.0126e-05 - val_loss: 4.6088e-05 - learning_rate: 3.9063e-06\n",
            "Epoch 41/70\n",
            "\u001b[1m161/161\u001b[0m \u001b[32m━━━━━━━━━━━━━━━━━━━━\u001b[0m\u001b[37m\u001b[0m \u001b[1m2s\u001b[0m 10ms/step - loss: 2.1116e-05 - val_loss: 4.6286e-05 - learning_rate: 3.9063e-06\n",
            "Epoch 42/70\n",
            "\u001b[1m161/161\u001b[0m \u001b[32m━━━━━━━━━━━━━━━━━━━━\u001b[0m\u001b[37m\u001b[0m \u001b[1m3s\u001b[0m 12ms/step - loss: 1.9155e-05 - val_loss: 4.6179e-05 - learning_rate: 3.9063e-06\n",
            "Epoch 43/70\n",
            "\u001b[1m161/161\u001b[0m \u001b[32m━━━━━━━━━━━━━━━━━━━━\u001b[0m\u001b[37m\u001b[0m \u001b[1m2s\u001b[0m 9ms/step - loss: 1.9906e-05 - val_loss: 4.5820e-05 - learning_rate: 3.9063e-06\n",
            "Epoch 44/70\n",
            "\u001b[1m161/161\u001b[0m \u001b[32m━━━━━━━━━━━━━━━━━━━━\u001b[0m\u001b[37m\u001b[0m \u001b[1m2s\u001b[0m 10ms/step - loss: 1.7227e-05 - val_loss: 4.5639e-05 - learning_rate: 1.9531e-06\n",
            "Epoch 45/70\n",
            "\u001b[1m161/161\u001b[0m \u001b[32m━━━━━━━━━━━━━━━━━━━━\u001b[0m\u001b[37m\u001b[0m \u001b[1m2s\u001b[0m 13ms/step - loss: 1.8177e-05 - val_loss: 4.5529e-05 - learning_rate: 1.9531e-06\n",
            "Epoch 46/70\n",
            "\u001b[1m161/161\u001b[0m \u001b[32m━━━━━━━━━━━━━━━━━━━━\u001b[0m\u001b[37m\u001b[0m \u001b[1m2s\u001b[0m 10ms/step - loss: 1.8283e-05 - val_loss: 4.5613e-05 - learning_rate: 1.9531e-06\n",
            "Epoch 47/70\n",
            "\u001b[1m161/161\u001b[0m \u001b[32m━━━━━━━━━━━━━━━━━━━━\u001b[0m\u001b[37m\u001b[0m \u001b[1m3s\u001b[0m 10ms/step - loss: 1.8515e-05 - val_loss: 4.5577e-05 - learning_rate: 1.9531e-06\n",
            "Epoch 48/70\n",
            "\u001b[1m161/161\u001b[0m \u001b[32m━━━━━━━━━━━━━━━━━━━━\u001b[0m\u001b[37m\u001b[0m \u001b[1m3s\u001b[0m 10ms/step - loss: 1.7409e-05 - val_loss: 4.6451e-05 - learning_rate: 1.9531e-06\n",
            "Epoch 49/70\n",
            "\u001b[1m161/161\u001b[0m \u001b[32m━━━━━━━━━━━━━━━━━━━━\u001b[0m\u001b[37m\u001b[0m \u001b[1m2s\u001b[0m 10ms/step - loss: 1.9698e-05 - val_loss: 4.5605e-05 - learning_rate: 9.7656e-07\n",
            "Epoch 50/70\n",
            "\u001b[1m161/161\u001b[0m \u001b[32m━━━━━━━━━━━━━━━━━━━━\u001b[0m\u001b[37m\u001b[0m \u001b[1m3s\u001b[0m 12ms/step - loss: 1.8852e-05 - val_loss: 4.6306e-05 - learning_rate: 9.7656e-07\n",
            "Epoch 51/70\n",
            "\u001b[1m161/161\u001b[0m \u001b[32m━━━━━━━━━━━━━━━━━━━━\u001b[0m\u001b[37m\u001b[0m \u001b[1m2s\u001b[0m 11ms/step - loss: 1.8952e-05 - val_loss: 4.6763e-05 - learning_rate: 9.7656e-07\n",
            "Epoch 52/70\n",
            "\u001b[1m161/161\u001b[0m \u001b[32m━━━━━━━━━━━━━━━━━━━━\u001b[0m\u001b[37m\u001b[0m \u001b[1m2s\u001b[0m 9ms/step - loss: 2.1479e-05 - val_loss: 4.5578e-05 - learning_rate: 9.7656e-07\n",
            "Epoch 53/70\n",
            "\u001b[1m161/161\u001b[0m \u001b[32m━━━━━━━━━━━━━━━━━━━━\u001b[0m\u001b[37m\u001b[0m \u001b[1m3s\u001b[0m 10ms/step - loss: 2.0971e-05 - val_loss: 4.5675e-05 - learning_rate: 9.7656e-07\n",
            "Epoch 54/70\n",
            "\u001b[1m161/161\u001b[0m \u001b[32m━━━━━━━━━━━━━━━━━━━━\u001b[0m\u001b[37m\u001b[0m \u001b[1m2s\u001b[0m 12ms/step - loss: 1.9826e-05 - val_loss: 4.6488e-05 - learning_rate: 4.8828e-07\n",
            "Epoch 55/70\n",
            "\u001b[1m161/161\u001b[0m \u001b[32m━━━━━━━━━━━━━━━━━━━━\u001b[0m\u001b[37m\u001b[0m \u001b[1m2s\u001b[0m 10ms/step - loss: 1.8895e-05 - val_loss: 4.5816e-05 - learning_rate: 4.8828e-07\n",
            "Epoch 56/70\n",
            "\u001b[1m161/161\u001b[0m \u001b[32m━━━━━━━━━━━━━━━━━━━━\u001b[0m\u001b[37m\u001b[0m \u001b[1m2s\u001b[0m 10ms/step - loss: 1.7905e-05 - val_loss: 4.5604e-05 - learning_rate: 4.8828e-07\n",
            "Epoch 57/70\n",
            "\u001b[1m161/161\u001b[0m \u001b[32m━━━━━━━━━━━━━━━━━━━━\u001b[0m\u001b[37m\u001b[0m \u001b[1m3s\u001b[0m 10ms/step - loss: 1.8930e-05 - val_loss: 4.6037e-05 - learning_rate: 4.8828e-07\n",
            "Epoch 58/70\n",
            "\u001b[1m161/161\u001b[0m \u001b[32m━━━━━━━━━━━━━━━━━━━━\u001b[0m\u001b[37m\u001b[0m \u001b[1m3s\u001b[0m 10ms/step - loss: 1.9535e-05 - val_loss: 4.6073e-05 - learning_rate: 4.8828e-07\n",
            "Epoch 59/70\n",
            "\u001b[1m161/161\u001b[0m \u001b[32m━━━━━━━━━━━━━━━━━━━━\u001b[0m\u001b[37m\u001b[0m \u001b[1m2s\u001b[0m 9ms/step - loss: 1.8950e-05 - val_loss: 4.5693e-05 - learning_rate: 2.4414e-07\n",
            "Epoch 60/70\n",
            "\u001b[1m161/161\u001b[0m \u001b[32m━━━━━━━━━━━━━━━━━━━━\u001b[0m\u001b[37m\u001b[0m \u001b[1m3s\u001b[0m 13ms/step - loss: 2.1582e-05 - val_loss: 4.6256e-05 - learning_rate: 2.4414e-07\n",
            "\u001b[1m26/26\u001b[0m \u001b[32m━━━━━━━━━━━━━━━━━━━━\u001b[0m\u001b[37m\u001b[0m \u001b[1m0s\u001b[0m 9ms/step\n",
            "GRU Next-Day Prediction Metrics:\n",
            "MAE: 1213.4955983009324\n",
            "RMSE: 1658.586954821702\n",
            "R²: 0.9953957104134158\n",
            "MAPE: 1.2258418262232265%\n",
            "RMSE Percentage: 1.6518622528762592%\n"
          ]
        },
        {
          "output_type": "display_data",
          "data": {
            "text/plain": [
              "<Figure size 1200x600 with 1 Axes>"
            ],
            "image/png": "[encoded data removed]"
          },
          "metadata": {}
        }
      ],
      "source": [
        "import numpy as np\n",
        "import pandas as pd\n",
        "import tensorflow as tf\n",
        "from sklearn.preprocessing import MinMaxScaler\n",
        "from tensorflow.keras.models import Sequential\n",
        "from tensorflow.keras.layers import GRU, Bidirectional, Dense, Dropout,Attention, LayerNormalization\n",
        "from tensorflow.keras.optimizers import AdamW\n",
        "from tensorflow.keras.losses import Huber\n",
        "from tensorflow.keras.callbacks import EarlyStopping, ReduceLROnPlateau\n",
        "\n",
        "\n",
        "from sklearn.metrics import mean_absolute_error, mean_squared_error, r2_score, mean_absolute_percentage_error\n",
        "import matplotlib.pyplot as plt\n",
        "# import pandas_ta as ta\n",
        "\n",
        "# Load the dataset\n",
        "data = pd.read_csv(\"https://raw.githubusercontent.com/ranjithkumar5807/stock-prediction/refs/heads/main/technical%20indicators/MRF.NS_indicators.csv\")\n",
        "\n",
        "# Selecting important features\n",
        "selected_features = ['close', 'high', 'low', 'open', 'volume', 'MACD', 'RSI', 'ATR', 'BB_upper', 'BB_middle', 'BB_lower',\"SMA_10\",\"SMA_21\"]\n",
        "\n",
        "# Adding Moving Averages\n",
        "data['SMA_10'] = data['close'].rolling(window=10).mean()\n",
        "data['SMA_21'] = data['close'].rolling(window=21).mean()\n",
        "# data['EMA_5'] = ta.ema(data['close'], length=5)\n",
        "# data['EMA_8'] = ta.ema(data['close'], length=8)\n",
        "# data['EMA_13'] = ta.ema(data['close'], length=13)\n",
        "data = data[selected_features].dropna()\n",
        "\n",
        "\n",
        "# Normalize the data\n",
        "scaler = MinMaxScaler()\n",
        "scaled_data = scaler.fit_transform(data)\n",
        "\n",
        "# Function to create sequences for next-day prediction\n",
        "def create_sequences(data, sequence_length=20):\n",
        "    X, y = [], []\n",
        "    for i in range(len(data) - sequence_length - 1):\n",
        "        X.append(data[i:i + sequence_length])\n",
        "        y.append(data[i + sequence_length, 0])  # Predicting 'close' price\n",
        "    return np.array(X), np.array(y)\n",
        "\n",
        "# Create sequences\n",
        "sequence_length = 45\n",
        "X, y = create_sequences(scaled_data, sequence_length)\n",
        "\n",
        "# Train-Test-Validation Split\n",
        "train_size = int(len(X) * 0.7)\n",
        "val_size = int(len(X) * 0.15)\n",
        "X_train, X_val, X_test = X[:train_size], X[train_size:train_size+val_size], X[train_size+val_size:]\n",
        "y_train, y_val, y_test = y[:train_size], y[train_size:train_size+val_size], y[train_size+val_size:]\n",
        "\n",
        "# Build GRU Model\n",
        "model = Sequential()\n",
        "model.add(Bidirectional(GRU(256, return_sequences=False, input_shape=(X_train.shape[1], X_train.shape[2]))))\n",
        "# model.add(Dropout(0.18))\n",
        "\n",
        "# model.add(Bidirectional(GRU(512, return_sequences=False)))\n",
        "model.add(Dropout(0.2))\n",
        "model.add(Dense(1))\n",
        "\n",
        "# Compile Model\n",
        "optimizer = AdamW(learning_rate=0.0005)\n",
        "model.compile(optimizer=optimizer, loss=Huber(delta=1.0))  # Using Huber Loss\n",
        "\n",
        "# Callbacks\n",
        "early_stop = EarlyStopping(monitor='val_loss', patience=15, restore_best_weights=True)\n",
        "reduce_lr = ReduceLROnPlateau(monitor='val_loss', factor=0.5, patience=5)\n",
        "\n",
        "# Train the Model\n",
        "history = model.fit(X_train, y_train, epochs=70, batch_size=24, validation_data=(X_val, y_val),\n",
        "                    callbacks=[early_stop, reduce_lr])\n",
        "\n",
        "# Predictions\n",
        "y_pred = model.predict(X_test)\n",
        "\n",
        "# Inverse transform predictions\n",
        "y_pred_actual = scaler.inverse_transform(np.concatenate((y_pred, np.zeros((y_pred.shape[0], X_test.shape[2] - 1))), axis=1))[:, 0]\n",
        "y_test_actual = scaler.inverse_transform(np.concatenate((y_test.reshape(-1, 1), np.zeros((y_test.shape[0], X_test.shape[2] - 1))), axis=1))[:, 0]\n",
        "\n",
        "# Evaluate Performance\n",
        "mae = mean_absolute_error(y_test_actual, y_pred_actual)\n",
        "rmse = np.sqrt(mean_squared_error(y_test_actual, y_pred_actual))\n",
        "mape = mean_absolute_percentage_error(y_test_actual, y_pred_actual) * 100\n",
        "r2 = r2_score(y_test_actual, y_pred_actual)\n",
        "rmse_percentage = (rmse / np.mean(y_test_actual)) * 100\n",
        "\n",
        "print(f'GRU Next-Day Prediction Metrics:')\n",
        "print(f'MAE: {mae}')\n",
        "print(f'RMSE: {rmse}')\n",
        "print(f'R²: {r2}')\n",
        "print(f'MAPE: {mape}%')\n",
        "print(f'RMSE Percentage: {rmse_percentage}%')\n",
        "\n",
        "# Plot Actual vs Predicted Prices\n",
        "plt.figure(figsize=(12, 6))\n",
        "plt.plot(y_test_actual, label='Actual')\n",
        "plt.plot(y_pred_actual, label='Predicted')\n",
        "plt.title('Next-Day Stock Price Prediction (GRU)')\n",
        "plt.xlabel('Time')\n",
        "plt.ylabel('Stock Price')\n",
        "plt.legend()\n",
        "plt.show()\n"
      ]
    },
    {
      "cell_type": "code",
      "source": [
        "import json\n",
        "import joblib\n",
        "from tensorflow.keras.models import load_model\n",
        "\n",
        "# Save Model\n",
        "model.save('GRU_model.h5')\n",
        "\n",
        "# Save Scaler\n",
        "joblib.dump(scaler, 'scaler.pkl')\n",
        "\n",
        "# Save Features List\n",
        "features = ['close', 'high', 'low', 'open', 'volume', 'MACD', 'RSI', 'ATR', 'BB_upper', 'BB_middle', 'BB_lower', \"SMA_10\", \"SMA_21\"]\n",
        "with open('features.json', 'w') as f:\n",
        "    json.dump(features, f)\n",
        "\n",
        "# Save Training History\n",
        "with open('training_history.json', 'w') as f:\n",
        "    json.dump(history.history, f)\n",
        "\n",
        "# Save Performance Metrics\n",
        "metrics = {\n",
        "    \"MAE\": mae,\n",
        "    \"RMSE\": rmse,\n",
        "    \"R2\": r2,\n",
        "    \"MAPE\": mape,\n",
        "    \"RMSE_Percentage\": rmse_percentage\n",
        "}\n",
        "with open('model_metrics.json', 'w') as f:\n",
        "    json.dump(metrics, f)\n",
        "\n",
        "with open('sequence_length.txt','w') as f:\n",
        "  json.dump(sequence_length,f)\n"
      ],
      "metadata": {
        "colab": {
          "base_uri": "https://localhost:8080/"
        },
        "id": "_B7zFJcjOCeB",
        "outputId": "f8e06fff-b500-412b-8f33-7783740b7f84"
      },
      "execution_count": null,
      "outputs": [
        {
          "output_type": "stream",
          "name": "stderr",
          "text": [
            "WARNING:absl:You are saving your model as an HDF5 file via `model.save()` or `keras.saving.save_model(model)`. This file format is considered legacy. We recommend using instead the native Keras format, e.g. `model.save('my_model.keras')` or `keras.saving.save_model(model, 'my_model.keras')`. \n"
          ]
        }
      ]
    },
    {
      "cell_type": "code",
      "source": [
        "import json\n",
        "import joblib\n",
        "from tensorflow.keras.models import load_model\n",
        "\n",
        "# Load Model\n",
        "model = load_model('GRU_model.h5')\n",
        "\n",
        "# Load Scaler\n",
        "scaler = joblib.load('scaler.pkl')\n",
        "\n",
        "# Load Features List\n",
        "with open('features.json', 'r') as f:\n",
        "    features = json.load(f)\n",
        "\n",
        "# Load Training History\n",
        "with open('training_history.json', 'r') as f:\n",
        "    history_data = json.load(f)\n",
        "\n",
        "# Load Performance Metrics\n",
        "with open('model_metrics.json', 'r') as f:\n",
        "    metrics = json.load(f)\n",
        "\n",
        "\n",
        "with open('sequence_length.txt', 'r') as f:\n",
        "    sequence = int(f.read().strip())  # Read, strip whitespace, and convert to integer\n",
        "\n",
        "import pandas as pd\n",
        "import numpy as np\n",
        "# Load dataset\n",
        "data = pd.read_csv(\"https://raw.githubusercontent.com/ranjithkumar5807/stock-prediction/refs/heads/main/technical%20indicators/TCS.NS_indicators.csv\")\n",
        "\n",
        "\n",
        "# Select relevant features (same as training)\n",
        "selected_features = ['close', 'high', 'low', 'open', 'volume', 'MACD', 'RSI', 'ATR', 'BB_upper', 'BB_middle', 'BB_lower', \"SMA_10\", \"SMA_21\"]\n",
        "\n",
        "data['SMA_10'] = data['close'].rolling(window=10).mean()\n",
        "data['SMA_21'] = data['close'].rolling(window=21).mean()\n",
        "\n",
        "\n",
        "\n",
        "# Normalize the data using the previously saved scaler\n",
        "scaled_data = scaler.transform(data[selected_features])\n",
        "\n",
        "# Extract the last `sequence_length` rows for prediction\n",
        "sequence_length = 45   # Same as training\n",
        "X_latest = np.array([scaled_data[-sequence_length:]])  # Shape (1, sequence_length, num_features)\n",
        "\n",
        "# Predict next-day close price\n",
        "y_pred = model.predict(X_latest)\n",
        "\n",
        "# Reshape prediction to match scaler's expected input shape\n",
        "y_pred_rescaled = np.zeros((1, scaled_data.shape[1]))  # Create zero-filled array\n",
        "y_pred_rescaled[:, 0] = y_pred[:, 0]  # Assign predicted close price to first column\n",
        "\n",
        "# Inverse transform only the close price\n",
        "y_pred_actual = scaler.inverse_transform(y_pred_rescaled)[:, 0]\n",
        "\n",
        "print(f'Predicted Next-Day Close Price: {y_pred_actual[0]}')"
      ],
      "metadata": {
        "colab": {
          "base_uri": "https://localhost:8080/"
        },
        "id": "RD31d3M0PpHg",
        "outputId": "58126342-4ebb-44a3-fb2c-587eae02beb1"
      },
      "execution_count": null,
      "outputs": [
        {
          "output_type": "stream",
          "name": "stderr",
          "text": [
            "WARNING:absl:Compiled the loaded model, but the compiled metrics have yet to be built. `model.compile_metrics` will be empty until you train or evaluate the model.\n"
          ]
        },
        {
          "output_type": "stream",
          "name": "stdout",
          "text": [
            "\u001b[1m1/1\u001b[0m \u001b[32m━━━━━━━━━━━━━━━━━━━━\u001b[0m\u001b[37m\u001b[0m \u001b[1m0s\u001b[0m 412ms/step\n",
            "Predicted Next-Day Close Price: 5591.8963035802135\n"
          ]
        }
      ]
    },
    {
      "cell_type": "code",
      "source": [
        "import pandas as pd\n",
        "import numpy as np\n",
        "# Load dataset\n",
        "data = pd.read_csv(\"https://raw.githubusercontent.com/ranjithkumar5807/stock-prediction/refs/heads/main/technical%20indicators/TCS.NS_indicators.csv\")\n",
        "\n",
        "\n",
        "# Select relevant features (same as training)\n",
        "selected_features = ['close', 'high', 'low', 'open', 'volume', 'MACD', 'RSI', 'ATR', 'BB_upper', 'BB_middle', 'BB_lower', \"SMA_10\", \"SMA_21\"]\n",
        "\n",
        "data['SMA_10'] = data['close'].rolling(window=10).mean()\n",
        "data['SMA_21'] = data['close'].rolling(window=21).mean()\n",
        "\n",
        "\n",
        "\n",
        "# Normalize the data using the previously saved scaler\n",
        "scaled_data = scaler.transform(data[selected_features])\n",
        "\n",
        "# Extract the last `sequence_length` rows for prediction\n",
        "sequence_length = 45   # Same as training\n",
        "X_latest = np.array([scaled_data[-sequence_length:]])  # Shape (1, sequence_length, num_features)\n",
        "\n",
        "# Predict next-day close price\n",
        "y_pred = model.predict(X_latest)\n",
        "\n",
        "# Reshape prediction to match scaler's expected input shape\n",
        "y_pred_rescaled = np.zeros((1, scaled_data.shape[1]))  # Create zero-filled array\n",
        "y_pred_rescaled[:, 0] = y_pred[:, 0]  # Assign predicted close price to first column\n",
        "\n",
        "# Inverse transform only the close price\n",
        "y_pred_actual = scaler.inverse_transform(y_pred_rescaled)[:, 0]\n",
        "\n",
        "print(f'Predicted Next-Day Close Price: {y_pred_actual[0]}')"
      ],
      "metadata": {
        "colab": {
          "base_uri": "https://localhost:8080/"
        },
        "id": "D51WNMwTRbwZ",
        "outputId": "6ded99e4-383a-44f2-c3a7-91c33b05215b"
      },
      "execution_count": null,
      "outputs": [
        {
          "output_type": "stream",
          "name": "stdout",
          "text": [
            "\u001b[1m1/1\u001b[0m \u001b[32m━━━━━━━━━━━━━━━━━━━━\u001b[0m\u001b[37m\u001b[0m \u001b[1m0s\u001b[0m 49ms/step\n",
            "Predicted Next-Day Close Price: 4106.249143020757\n"
          ]
        }
      ]
    },
    {
      "cell_type": "code",
      "source": [
        "import tensorflow as tf\n",
        "model = tf.keras.models.load_model(\"GRU_model.h5\")\n",
        "model.summary()"
      ],
      "metadata": {
        "id": "HQb2eETLS48d",
        "colab": {
          "base_uri": "https://localhost:8080/",
          "height": 279
        },
        "outputId": "3ec5f996-beb1-4e10-abac-7e91fb2e91fd"
      },
      "execution_count": null,
      "outputs": [
        {
          "output_type": "stream",
          "name": "stderr",
          "text": [
            "WARNING:absl:Compiled the loaded model, but the compiled metrics have yet to be built. `model.compile_metrics` will be empty until you train or evaluate the model.\n"
          ]
        },
        {
          "output_type": "display_data",
          "data": {
            "text/plain": [
              "\u001b[1mModel: \"sequential\"\u001b[0m\n"
            ],
            "text/html": [
              "<pre style=\"white-space:pre;overflow-x:auto;line-height:normal;font-family:Menlo,'DejaVu Sans Mono',consolas,'Courier New',monospace\"><span style=\"font-weight: bold\">Model: \"sequential\"</span>\n",
              "</pre>\n"
            ]
          },
          "metadata": {}
        },
        {
          "output_type": "display_data",
          "data": {
            "text/plain": [
              "┏━━━━━━━━━━━━━━━━━━━━━━━━━━━━━━━━━━━━━━┳━━━━━━━━━━━━━━━━━━━━━━━━━━━━━┳━━━━━━━━━━━━━━━━━┓\n",
              "┃\u001b[1m \u001b[0m\u001b[1mLayer (type)                        \u001b[0m\u001b[1m \u001b[0m┃\u001b[1m \u001b[0m\u001b[1mOutput Shape               \u001b[0m\u001b[1m \u001b[0m┃\u001b[1m \u001b[0m\u001b[1m        Param #\u001b[0m\u001b[1m \u001b[0m┃\n",
              "┡━━━━━━━━━━━━━━━━━━━━━━━━━━━━━━━━━━━━━━╇━━━━━━━━━━━━━━━━━━━━━━━━━━━━━╇━━━━━━━━━━━━━━━━━┩\n",
              "│ bidirectional (\u001b[38;5;33mBidirectional\u001b[0m)        │ (\u001b[38;5;45mNone\u001b[0m, \u001b[38;5;34m512\u001b[0m)                 │         \u001b[38;5;34m416,256\u001b[0m │\n",
              "├──────────────────────────────────────┼─────────────────────────────┼─────────────────┤\n",
              "│ dropout (\u001b[38;5;33mDropout\u001b[0m)                    │ (\u001b[38;5;45mNone\u001b[0m, \u001b[38;5;34m512\u001b[0m)                 │               \u001b[38;5;34m0\u001b[0m │\n",
              "├──────────────────────────────────────┼─────────────────────────────┼─────────────────┤\n",
              "│ dense (\u001b[38;5;33mDense\u001b[0m)                        │ (\u001b[38;5;45mNone\u001b[0m, \u001b[38;5;34m1\u001b[0m)                   │             \u001b[38;5;34m513\u001b[0m │\n",
              "└──────────────────────────────────────┴─────────────────────────────┴─────────────────┘\n"
            ],
            "text/html": [
              "<pre style=\"white-space:pre;overflow-x:auto;line-height:normal;font-family:Menlo,'DejaVu Sans Mono',consolas,'Courier New',monospace\">┏━━━━━━━━━━━━━━━━━━━━━━━━━━━━━━━━━━━━━━┳━━━━━━━━━━━━━━━━━━━━━━━━━━━━━┳━━━━━━━━━━━━━━━━━┓\n",
              "┃<span style=\"font-weight: bold\"> Layer (type)                         </span>┃<span style=\"font-weight: bold\"> Output Shape                </span>┃<span style=\"font-weight: bold\">         Param # </span>┃\n",
              "┡━━━━━━━━━━━━━━━━━━━━━━━━━━━━━━━━━━━━━━╇━━━━━━━━━━━━━━━━━━━━━━━━━━━━━╇━━━━━━━━━━━━━━━━━┩\n",
              "│ bidirectional (<span style=\"color: #0087ff; text-decoration-color: #0087ff\">Bidirectional</span>)        │ (<span style=\"color: #00d7ff; text-decoration-color: #00d7ff\">None</span>, <span style=\"color: #00af00; text-decoration-color: #00af00\">512</span>)                 │         <span style=\"color: #00af00; text-decoration-color: #00af00\">416,256</span> │\n",
              "├──────────────────────────────────────┼─────────────────────────────┼─────────────────┤\n",
              "│ dropout (<span style=\"color: #0087ff; text-decoration-color: #0087ff\">Dropout</span>)                    │ (<span style=\"color: #00d7ff; text-decoration-color: #00d7ff\">None</span>, <span style=\"color: #00af00; text-decoration-color: #00af00\">512</span>)                 │               <span style=\"color: #00af00; text-decoration-color: #00af00\">0</span> │\n",
              "├──────────────────────────────────────┼─────────────────────────────┼─────────────────┤\n",
              "│ dense (<span style=\"color: #0087ff; text-decoration-color: #0087ff\">Dense</span>)                        │ (<span style=\"color: #00d7ff; text-decoration-color: #00d7ff\">None</span>, <span style=\"color: #00af00; text-decoration-color: #00af00\">1</span>)                   │             <span style=\"color: #00af00; text-decoration-color: #00af00\">513</span> │\n",
              "└──────────────────────────────────────┴─────────────────────────────┴─────────────────┘\n",
              "</pre>\n"
            ]
          },
          "metadata": {}
        },
        {
          "output_type": "display_data",
          "data": {
            "text/plain": [
              "\u001b[1m Total params: \u001b[0m\u001b[38;5;34m416,771\u001b[0m (1.59 MB)\n"
            ],
            "text/html": [
              "<pre style=\"white-space:pre;overflow-x:auto;line-height:normal;font-family:Menlo,'DejaVu Sans Mono',consolas,'Courier New',monospace\"><span style=\"font-weight: bold\"> Total params: </span><span style=\"color: #00af00; text-decoration-color: #00af00\">416,771</span> (1.59 MB)\n",
              "</pre>\n"
            ]
          },
          "metadata": {}
        },
        {
          "output_type": "display_data",
          "data": {
            "text/plain": [
              "\u001b[1m Trainable params: \u001b[0m\u001b[38;5;34m416,769\u001b[0m (1.59 MB)\n"
            ],
            "text/html": [
              "<pre style=\"white-space:pre;overflow-x:auto;line-height:normal;font-family:Menlo,'DejaVu Sans Mono',consolas,'Courier New',monospace\"><span style=\"font-weight: bold\"> Trainable params: </span><span style=\"color: #00af00; text-decoration-color: #00af00\">416,769</span> (1.59 MB)\n",
              "</pre>\n"
            ]
          },
          "metadata": {}
        },
        {
          "output_type": "display_data",
          "data": {
            "text/plain": [
              "\u001b[1m Non-trainable params: \u001b[0m\u001b[38;5;34m0\u001b[0m (0.00 B)\n"
            ],
            "text/html": [
              "<pre style=\"white-space:pre;overflow-x:auto;line-height:normal;font-family:Menlo,'DejaVu Sans Mono',consolas,'Courier New',monospace\"><span style=\"font-weight: bold\"> Non-trainable params: </span><span style=\"color: #00af00; text-decoration-color: #00af00\">0</span> (0.00 B)\n",
              "</pre>\n"
            ]
          },
          "metadata": {}
        },
        {
          "output_type": "display_data",
          "data": {
            "text/plain": [
              "\u001b[1m Optimizer params: \u001b[0m\u001b[38;5;34m2\u001b[0m (12.00 B)\n"
            ],
            "text/html": [
              "<pre style=\"white-space:pre;overflow-x:auto;line-height:normal;font-family:Menlo,'DejaVu Sans Mono',consolas,'Courier New',monospace\"><span style=\"font-weight: bold\"> Optimizer params: </span><span style=\"color: #00af00; text-decoration-color: #00af00\">2</span> (12.00 B)\n",
              "</pre>\n"
            ]
          },
          "metadata": {}
        }
      ]
    },
    {
      "cell_type": "code",
      "source": [
        "import json\n",
        "import joblib\n",
        "import pandas as pd\n",
        "import numpy as np\n",
        "from tensorflow.keras.models import load_model\n",
        "\n",
        "# Load Model\n",
        "model = load_model('GRU_model.h5')\n",
        "\n",
        "# Load Scaler\n",
        "scaler = joblib.load('scaler.pkl')\n",
        "\n",
        "# Load Features List\n",
        "with open('features.json', 'r') as f:\n",
        "    features = json.load(f)\n",
        "\n",
        "# Load Training History\n",
        "with open('training_history.json', 'r') as f:\n",
        "    history_data = json.load(f)\n",
        "\n",
        "# Load Performance Metrics\n",
        "with open('model_metrics.json', 'r') as f:\n",
        "    metrics = json.load(f)\n",
        "\n",
        "# Load Sequence Length\n",
        "with open('sequence_length.txt', 'r') as f:\n",
        "    sequence_length = int(f.read().strip())  # Read, strip whitespace, and convert to integer\n",
        "\n",
        "# Load dataset\n",
        "data = pd.read_csv(\"https://raw.githubusercontent.com/ranjithkumar5807/stock-prediction/refs/heads/main/technical%20indicators/TCS.NS_indicators.csv\")\n",
        "\n",
        "# Ensure features used are the same as during training\n",
        "selected_features = features  # Use features.json to maintain consistency\n",
        "\n",
        "# Compute missing indicators\n",
        "data['SMA_10'] = data['close'].rolling(window=10).mean()\n",
        "data['SMA_21'] = data['close'].rolling(window=21).mean()\n",
        "\n",
        "# Drop NaN values caused by rolling calculations\n",
        "data.dropna(inplace=True)\n",
        "\n",
        "# Normalize the data\n",
        "scaled_data = scaler.transform(data[selected_features])\n",
        "\n",
        "# Extract the last `sequence_length` rows for prediction\n",
        "X_latest = np.array([scaled_data[-sequence_length:]])  # Shape (1, sequence_length, num_features)\n",
        "\n",
        "# Predict next-day close price\n",
        "y_pred = model.predict(X_latest)\n",
        "\n",
        "# Prepare for inverse transformation\n",
        "y_pred_rescaled = scaled_data[-1:].copy()  # Copy last row\n",
        "y_pred_rescaled[:, 0] = y_pred[:, 0]  # Replace close price with prediction\n",
        "\n",
        "# Inverse transform to get actual predicted price\n",
        "y_pred_actual = scaler.inverse_transform(y_pred_rescaled)[:, 0]\n",
        "\n",
        "print(f'Predicted Next-Day Close Price: {y_pred_actual[0]}')\n"
      ],
      "metadata": {
        "id": "2R0jm0BWFzgf",
        "colab": {
          "base_uri": "https://localhost:8080/"
        },
        "outputId": "a85e9de7-e4a5-4fec-9d79-e70e2ea682bb"
      },
      "execution_count": null,
      "outputs": [
        {
          "output_type": "stream",
          "name": "stderr",
          "text": [
            "WARNING:absl:Compiled the loaded model, but the compiled metrics have yet to be built. `model.compile_metrics` will be empty until you train or evaluate the model.\n"
          ]
        },
        {
          "output_type": "stream",
          "name": "stdout",
          "text": [
            "\u001b[1m1/1\u001b[0m \u001b[32m━━━━━━━━━━━━━━━━━━━━\u001b[0m\u001b[37m\u001b[0m \u001b[1m0s\u001b[0m 325ms/step\n",
            "Predicted Next-Day Close Price: 4028.4480281030987\n"
          ]
        }
      ]
    },
    {
      "cell_type": "code",
      "source": [
        "import json\n",
        "import joblib\n",
        "import pandas as pd\n",
        "import numpy as np\n",
        "from tensorflow.keras.models import load_model\n",
        "\n",
        "# Load Model\n",
        "model = load_model('GRU_model.h5')\n",
        "\n",
        "# Load Scaler\n",
        "scaler = joblib.load('scaler.pkl')\n",
        "\n",
        "# Load Features List\n",
        "with open('features.json', 'r') as f:\n",
        "    features = json.load(f)\n",
        "\n",
        "# Load Sequence Length\n",
        "with open('sequence_length.txt', 'r') as f:\n",
        "    sequence_length = int(f.read().strip())  # Read sequence length from file\n",
        "\n",
        "# Load dataset\n",
        "data = pd.read_csv(\"https://raw.githubusercontent.com/ranjithkumar5807/stock-prediction/refs/heads/main/technical%20indicators/TCS.NS_indicators.csv\")\n",
        "\n",
        "# Select relevant features (use features.json to maintain consistency)\n",
        "selected_features = features\n",
        "\n",
        "# Compute missing indicators (same as original code)\n",
        "data['SMA_10'] = data['close'].rolling(window=10).mean()\n",
        "data['SMA_21'] = data['close'].rolling(window=21).mean()\n",
        "\n",
        "# Drop NaN values caused by rolling calculations\n",
        "data.dropna(inplace=True)\n",
        "\n",
        "# Normalize the data\n",
        "scaled_data = scaler.transform(data[selected_features])\n",
        "\n",
        "# Extract the last `sequence_length` rows for prediction\n",
        "X_latest = np.array([scaled_data[-sequence_length:]])  # Shape (1, sequence_length, num_features)\n",
        "\n",
        "# Predict next-day close price\n",
        "y_pred = model.predict(X_latest)\n",
        "\n",
        "# Reconstruct the original approach for inverse transformation\n",
        "y_pred_rescaled = np.zeros_like(scaled_data[-1:])  # Create zero-filled array\n",
        "y_pred_rescaled[:, 0] = y_pred[:, 0]  # Assign predicted close price to first column\n",
        "\n",
        "# Inverse transform only the close price\n",
        "y_pred_actual = scaler.inverse_transform(y_pred_rescaled)[:, 0]\n",
        "\n",
        "print(f'Predicted Next-Day Close Price: {y_pred_actual[0]}')\n"
      ],
      "metadata": {
        "colab": {
          "base_uri": "https://localhost:8080/"
        },
        "id": "sd4QU4_dPN7C",
        "outputId": "fe424837-01c2-4040-9bb7-71be80e8737e"
      },
      "execution_count": null,
      "outputs": [
        {
          "output_type": "stream",
          "name": "stderr",
          "text": [
            "WARNING:absl:Compiled the loaded model, but the compiled metrics have yet to be built. `model.compile_metrics` will be empty until you train or evaluate the model.\n"
          ]
        },
        {
          "output_type": "stream",
          "name": "stdout",
          "text": [
            "\u001b[1m1/1\u001b[0m \u001b[32m━━━━━━━━━━━━━━━━━━━━\u001b[0m\u001b[37m\u001b[0m \u001b[1m0s\u001b[0m 343ms/step\n",
            "Predicted Next-Day Close Price: 4028.4480281030987\n"
          ]
        }
      ]
    },
    {
      "cell_type": "code",
      "source": [
        "print(\"Features from JSON:\", features)\n",
        "print(\"Selected Features:\", selected_features)\n"
      ],
      "metadata": {
        "colab": {
          "base_uri": "https://localhost:8080/"
        },
        "id": "q53vLiuEQCPw",
        "outputId": "cab2f03d-80b1-43f4-f9fc-4111d1ca2fec"
      },
      "execution_count": null,
      "outputs": [
        {
          "output_type": "stream",
          "name": "stdout",
          "text": [
            "Features from JSON: ['close', 'high', 'low', 'open', 'volume', 'MACD', 'RSI', 'ATR', 'BB_upper', 'BB_middle', 'BB_lower', 'SMA_10', 'SMA_21']\n",
            "Selected Features: ['close', 'high', 'low', 'open', 'volume', 'MACD', 'RSI', 'ATR', 'BB_upper', 'BB_middle', 'BB_lower', 'SMA_10', 'SMA_21']\n"
          ]
        }
      ]
    },
    {
      "cell_type": "code",
      "source": [
        "import json\n",
        "import joblib\n",
        "import pandas as pd\n",
        "import numpy as np\n",
        "from tensorflow.keras.models import load_model\n",
        "\n",
        "# Load Model\n",
        "model = load_model('GRU_model.h5')\n",
        "\n",
        "# Load Scaler\n",
        "scaler = joblib.load('scaler.pkl')\n",
        "\n",
        "# Load Features List\n",
        "with open('features.json', 'r') as f:\n",
        "    features = json.load(f)\n",
        "\n",
        "# Load Sequence Length\n",
        "with open('sequence_length.txt', 'r') as f:\n",
        "    sequence_length = int(f.read().strip())  # Read sequence length from file\n",
        "\n",
        "# Load dataset\n",
        "data = pd.read_csv(\"https://raw.githubusercontent.com/ranjithkumar5807/stock-prediction/refs/heads/main/technical%20indicators/MRF.NS_indicators.csv\")\n",
        "\n",
        "# Select relevant features (use features.json to maintain consistency)\n",
        "selected_features = features\n",
        "\n",
        "# Compute missing indicators (same as original code)\n",
        "data['SMA_10'] = data['close'].rolling(window=10).mean()\n",
        "data['SMA_21'] = data['close'].rolling(window=21).mean()\n",
        "\n",
        "# Drop NaN values caused by rolling calculations\n",
        "data.dropna(inplace=True)\n",
        "\n",
        "# Normalize the data\n",
        "scaled_data = scaler.transform(data[selected_features])\n",
        "\n",
        "# Extract the last `sequence_length` rows for prediction\n",
        "X_latest = np.array([scaled_data[-sequence_length:]])  # Shape (1, sequence_length, num_features)\n",
        "\n",
        "# Predict next-day close price\n",
        "y_pred = model.predict(X_latest)\n",
        "\n",
        "# Reconstruct the original approach for inverse transformation\n",
        "y_pred_rescaled = np.zeros_like(scaled_data[-1:])  # Create zero-filled array\n",
        "y_pred_rescaled[:, 0] = y_pred[:, 0]  # Assign predicted close price to first column\n",
        "\n",
        "# Inverse transform only the close price\n",
        "y_pred_actual = scaler.inverse_transform(y_pred_rescaled)[:, 0][0]\n",
        "print(y_pred_actual)\n",
        "\n",
        "# Get the last closing price\n",
        "last_close = data['close'].iloc[-1]\n",
        "\n",
        "# Calculate actual 5-day and 10-day percentage changes\n",
        "if len(data) >= 10:  # Ensure enough data exists\n",
        "    close_5_days_ago = data['close'].iloc[-6]  # 5 days ago (including current day)\n",
        "    close_10_days_ago = data['close'].iloc[-11]  # 10 days ago\n",
        "\n",
        "    change_5_days = ((last_close - close_5_days_ago) / close_5_days_ago) * 100\n",
        "    change_10_days = ((last_close - close_10_days_ago) / close_10_days_ago) * 100\n",
        "else:\n",
        "    change_5_days, change_10_days = None, None  # Not enough data\n",
        "\n",
        "# Store results in a dictionary\n",
        "output_data = {\n",
        "    \"predicted_close\": str(round(y_pred_actual, 2)),\n",
        "    \"change_5_days\": str(round(change_5_days, 2)) if change_5_days is not None else None,\n",
        "    \"change_10_days\": str(round(change_10_days, 2)) if change_10_days is not None else None\n",
        "}"
      ],
      "metadata": {
        "id": "fpihWf6tQawR",
        "colab": {
          "base_uri": "https://localhost:8080/"
        },
        "outputId": "543b1f9a-94f2-4c5d-ff74-efdb16e9dac3"
      },
      "execution_count": null,
      "outputs": [
        {
          "output_type": "stream",
          "name": "stderr",
          "text": [
            "WARNING:absl:Compiled the loaded model, but the compiled metrics have yet to be built. `model.compile_metrics` will be empty until you train or evaluate the model.\n"
          ]
        },
        {
          "output_type": "stream",
          "name": "stdout",
          "text": [
            "\u001b[1m1/1\u001b[0m \u001b[32m━━━━━━━━━━━━━━━━━━━━\u001b[0m\u001b[37m\u001b[0m \u001b[1m0s\u001b[0m 156ms/step\n",
            "122606.89493419077\n"
          ]
        }
      ]
    },
    {
      "cell_type": "code",
      "source": [
        "output_data"
      ],
      "metadata": {
        "colab": {
          "base_uri": "https://localhost:8080/"
        },
        "id": "Ujb1PXsWwya6",
        "outputId": "28e611b3-14e1-4e44-d9bd-003a1d667550"
      },
      "execution_count": null,
      "outputs": [
        {
          "output_type": "execute_result",
          "data": {
            "text/plain": [
              "{'predicted_close': '122606.89',\n",
              " 'change_5_days': '2.14',\n",
              " 'change_10_days': '3.33'}"
            ]
          },
          "metadata": {},
          "execution_count": 5
        }
      ]
    },
    {
      "cell_type": "code",
      "source": [
        "output_file = f'MRF.NS.json'\n",
        "with open(output_file, \"w\") as f:\n",
        "    json.dump(output_data, f, indent=4)"
      ],
      "metadata": {
        "id": "BCR_x3DvxCos"
      },
      "execution_count": null,
      "outputs": []
    },
    {
      "cell_type": "code",
      "source": [],
      "metadata": {
        "id": "VYch_n0eqw3g"
      },
      "execution_count": null,
      "outputs": []
    }
  ]
}